{
  "cells": [
    {
      "cell_type": "markdown",
      "metadata": {
        "id": "view-in-github",
        "colab_type": "text"
      },
      "source": [
        "<a href=\"https://colab.research.google.com/github/SergeiVKalinin/MSE_Fall2024/blob/main/Module_1/0_Introduction_to_Python.ipynb\" target=\"_parent\"><img src=\"https://colab.research.google.com/assets/colab-badge.svg\" alt=\"Open In Colab\"/></a>"
      ]
    },
    {
      "cell_type": "markdown",
      "metadata": {
        "id": "8yNpKAhtYf7O"
      },
      "source": [
        "# Introduction to Python\n",
        "\n",
        "- Based on notebooks developed by Suhas Somhath (2018), https://scholar.google.com/citations?hl=en&user=ti-2g0IAAAAJ\n",
        "- Adaptation by Sergei Kalinin (2024), sergei2@utk.edu\n",
        "- For UTK MSE404/504 Fall 2024 Course"
      ]
    },
    {
      "cell_type": "markdown",
      "metadata": {
        "id": "BuIEhmh6Yf7S"
      },
      "source": [
        "## Interactive\n",
        "\n",
        "Unlike compiled languages like C / Fortran / Java etc, python is an interactive and interpreted language meaning that you can use it like a calculator executing one command at a time instead of having to compile a giant set of commands:"
      ]
    },
    {
      "cell_type": "code",
      "execution_count": 1,
      "metadata": {
        "id": "FLtUu-ahYf7S",
        "outputId": "e4a0f04c-4e9e-4e7e-a60f-2473856f47a1",
        "colab": {
          "base_uri": "https://localhost:8080/"
        }
      },
      "outputs": [
        {
          "output_type": "execute_result",
          "data": {
            "text/plain": [
              "16"
            ]
          },
          "metadata": {},
          "execution_count": 1
        }
      ],
      "source": [
        "1 + 15"
      ]
    },
    {
      "cell_type": "code",
      "execution_count": 2,
      "metadata": {
        "id": "c2K9kqZtYf7U",
        "outputId": "69e1d07c-98ab-4737-8edf-3e0b61f893e2",
        "colab": {
          "base_uri": "https://localhost:8080/"
        }
      },
      "outputs": [
        {
          "output_type": "execute_result",
          "data": {
            "text/plain": [
              "32"
            ]
          },
          "metadata": {},
          "execution_count": 2
        }
      ],
      "source": [
        "2 ** 5"
      ]
    },
    {
      "cell_type": "markdown",
      "metadata": {
        "id": "9g59T_TyYf7U"
      },
      "source": [
        "## Variables\n",
        "\n",
        "The basic components of (scientific) python are variables that can hold values that can be changed later on.\n",
        "\n",
        "We create variables as:\n",
        "\n",
        "``variable_name = value``"
      ]
    },
    {
      "cell_type": "code",
      "execution_count": 3,
      "metadata": {
        "id": "BJEdu3ZpYf7U",
        "outputId": "12acc2ce-0e79-4715-8eb8-d8235d3105f8",
        "colab": {
          "base_uri": "https://localhost:8080/"
        }
      },
      "outputs": [
        {
          "output_type": "stream",
          "name": "stdout",
          "text": [
            "100 hello 3.147 True\n"
          ]
        }
      ],
      "source": [
        "my_integer_variable = 100\n",
        "my_string_variable = 'hello'\n",
        "my_floating_pt_variable = 3.147\n",
        "my_boolean_value = True\n",
        "\n",
        "print(my_integer_variable, my_string_variable, my_floating_pt_variable, my_boolean_value)"
      ]
    },
    {
      "cell_type": "markdown",
      "metadata": {
        "id": "_hooo7GDYf7V"
      },
      "source": [
        "There are certain rules for naming variables:\n",
        "* Should not start with a number\n",
        "* Should not use reserved words like print, for, if, else etc.\n",
        "* Can use characters like '_' but not { or [ or ( or - or * or & ....\n",
        "\n",
        "Try these out:"
      ]
    },
    {
      "cell_type": "code",
      "execution_count": 4,
      "metadata": {
        "id": "34iGmII7Yf7V",
        "outputId": "55602428-77f2-4a3b-db66-ccbbccb9b445",
        "colab": {
          "base_uri": "https://localhost:8080/",
          "height": 106
        }
      },
      "outputs": [
        {
          "output_type": "error",
          "ename": "SyntaxError",
          "evalue": "invalid decimal literal (<ipython-input-4-408f771445fc>, line 1)",
          "traceback": [
            "\u001b[0;36m  File \u001b[0;32m\"<ipython-input-4-408f771445fc>\"\u001b[0;36m, line \u001b[0;32m1\u001b[0m\n\u001b[0;31m    3rd_value = 4\u001b[0m\n\u001b[0m    ^\u001b[0m\n\u001b[0;31mSyntaxError\u001b[0m\u001b[0;31m:\u001b[0m invalid decimal literal\n"
          ]
        }
      ],
      "source": [
        "3rd_value = 4"
      ]
    },
    {
      "cell_type": "markdown",
      "metadata": {
        "id": "dPo7ejv3Yf7V"
      },
      "source": [
        "# Lists\n",
        "As the name implies, such objects can contain a set of items like numbers, strings, or even lists, etc."
      ]
    },
    {
      "cell_type": "code",
      "execution_count": 19,
      "metadata": {
        "id": "oDussNgaYf7W",
        "outputId": "6b8bcbc8-fdfb-4ac5-b4b3-6a092e2a062c",
        "colab": {
          "base_uri": "https://localhost:8080/"
        }
      },
      "outputs": [
        {
          "output_type": "stream",
          "name": "stdout",
          "text": [
            "[1, -2.345, 'hello', True]\n"
          ]
        }
      ],
      "source": [
        "my_list = [1, -2.345, 'hello', True]\n",
        "print(my_list)"
      ]
    },
    {
      "cell_type": "markdown",
      "metadata": {
        "id": "ZgrWSabTYf7W"
      },
      "source": [
        "### Length:"
      ]
    },
    {
      "cell_type": "code",
      "execution_count": 20,
      "metadata": {
        "id": "EtpVid5SYf7W",
        "outputId": "8dd8628e-de0d-4f63-deeb-7bd4e6ef2e25",
        "colab": {
          "base_uri": "https://localhost:8080/"
        }
      },
      "outputs": [
        {
          "output_type": "execute_result",
          "data": {
            "text/plain": [
              "4"
            ]
          },
          "metadata": {},
          "execution_count": 20
        }
      ],
      "source": [
        "len(my_list)"
      ]
    },
    {
      "cell_type": "markdown",
      "metadata": {
        "id": "TgEWn0MDYf7W"
      },
      "source": [
        "## Indexing\n",
        "Let's say that we are interested in getting the second value in the list above. In python, this translates to getting the item at index ``1`` and not ``2`` since **python starts counting from index 0**.\n",
        "\n",
        "Just typing \"``my_list``\" would result in the entire list. We can find the item at the ``1st`` index by adding the suffix: **[1]**"
      ]
    },
    {
      "cell_type": "code",
      "execution_count": 21,
      "metadata": {
        "id": "uXHTKMzAYf7X",
        "outputId": "a5138c03-d14d-4ca1-e594-d084c71589d0",
        "colab": {
          "base_uri": "https://localhost:8080/"
        }
      },
      "outputs": [
        {
          "output_type": "execute_result",
          "data": {
            "text/plain": [
              "-2.345"
            ]
          },
          "metadata": {},
          "execution_count": 21
        }
      ],
      "source": [
        "my_list[1]"
      ]
    },
    {
      "cell_type": "code",
      "execution_count": 22,
      "metadata": {
        "id": "PoPDVefJYf7X",
        "outputId": "7103f570-5cfe-477e-c7d7-22de13aabb18",
        "colab": {
          "base_uri": "https://localhost:8080/",
          "height": 36
        }
      },
      "outputs": [
        {
          "output_type": "execute_result",
          "data": {
            "text/plain": [
              "'hello'"
            ],
            "application/vnd.google.colaboratory.intrinsic+json": {
              "type": "string"
            }
          },
          "metadata": {},
          "execution_count": 22
        }
      ],
      "source": [
        "my_list[2]"
      ]
    },
    {
      "cell_type": "markdown",
      "metadata": {
        "id": "xdvgVQAyYf7X"
      },
      "source": [
        "By the same token, if the object has length ``N``, the last index is ``N-1`` and **not** ``N``. Thus, the following line would result in an error:"
      ]
    },
    {
      "cell_type": "code",
      "execution_count": 23,
      "metadata": {
        "id": "GDF_2EONYf7X",
        "outputId": "ad04d140-9e36-484d-dbbd-91adb0953e60",
        "colab": {
          "base_uri": "https://localhost:8080/",
          "height": 141
        }
      },
      "outputs": [
        {
          "output_type": "error",
          "ename": "IndexError",
          "evalue": "list index out of range",
          "traceback": [
            "\u001b[0;31m---------------------------------------------------------------------------\u001b[0m",
            "\u001b[0;31mIndexError\u001b[0m                                Traceback (most recent call last)",
            "\u001b[0;32m<ipython-input-23-d598c93259b0>\u001b[0m in \u001b[0;36m<cell line: 1>\u001b[0;34m()\u001b[0m\n\u001b[0;32m----> 1\u001b[0;31m \u001b[0mmy_list\u001b[0m\u001b[0;34m[\u001b[0m\u001b[0mlen\u001b[0m\u001b[0;34m(\u001b[0m\u001b[0mmy_list\u001b[0m\u001b[0;34m)\u001b[0m\u001b[0;34m]\u001b[0m\u001b[0;34m\u001b[0m\u001b[0;34m\u001b[0m\u001b[0m\n\u001b[0m",
            "\u001b[0;31mIndexError\u001b[0m: list index out of range"
          ]
        }
      ],
      "source": [
        "my_list[len(my_list)]"
      ]
    },
    {
      "cell_type": "markdown",
      "metadata": {
        "id": "DXiX6wkfYf7X"
      },
      "source": [
        "One can also get a subset of the list as ``object[start:end]``. Note that this is equivalent to a list of ``object[start], object[start+1], .... object[end-2], object[end-1]``. ``object[end]`` is **not** included!"
      ]
    },
    {
      "cell_type": "code",
      "execution_count": 41,
      "metadata": {
        "id": "GweaZFp_Yf7Y",
        "outputId": "fa00647b-f657-4f8e-e4bb-3e7daa511449",
        "colab": {
          "base_uri": "https://localhost:8080/"
        }
      },
      "outputs": [
        {
          "output_type": "execute_result",
          "data": {
            "text/plain": [
              "[1, -2.345]"
            ]
          },
          "metadata": {},
          "execution_count": 41
        }
      ],
      "source": [
        "my_list[0:2]"
      ]
    },
    {
      "cell_type": "markdown",
      "metadata": {
        "id": "Hdgc6jMCYf7Y"
      },
      "source": [
        "### Appending:"
      ]
    },
    {
      "cell_type": "code",
      "execution_count": 42,
      "metadata": {
        "id": "dwkN7-GEYf7Y",
        "outputId": "5500e638-1907-4a59-c949-a2f7cd460e39",
        "colab": {
          "base_uri": "https://localhost:8080/"
        }
      },
      "outputs": [
        {
          "output_type": "execute_result",
          "data": {
            "text/plain": [
              "[1, -2.345, 'hello', True, 'bye']"
            ]
          },
          "metadata": {},
          "execution_count": 42
        }
      ],
      "source": [
        "my_list.append('bye')\n",
        "my_list"
      ]
    },
    {
      "cell_type": "markdown",
      "metadata": {
        "id": "2lWrUgk9Yf7Y"
      },
      "source": [
        "### Changing an entry:"
      ]
    },
    {
      "cell_type": "code",
      "execution_count": 43,
      "metadata": {
        "id": "sxB9TAYCYf7Y",
        "outputId": "1acb8bca-8037-428f-99d4-8e1c3938cb55",
        "colab": {
          "base_uri": "https://localhost:8080/"
        }
      },
      "outputs": [
        {
          "output_type": "execute_result",
          "data": {
            "text/plain": [
              "[1, 5.678, 'hello', True, 'bye']"
            ]
          },
          "metadata": {},
          "execution_count": 43
        }
      ],
      "source": [
        "my_list[1] = 5.678\n",
        "my_list"
      ]
    },
    {
      "cell_type": "markdown",
      "metadata": {
        "id": "5y0XM2y9Yf7Y"
      },
      "source": [
        "## Conditional\n",
        "\n",
        "Python offers if-elif-else for performing separate operations depending on certain conditions"
      ]
    },
    {
      "cell_type": "code",
      "execution_count": 44,
      "metadata": {
        "id": "p_RhZMxeYf7Z",
        "outputId": "4120ca98-0b51-4adc-9fd0-c49593009f39",
        "colab": {
          "base_uri": "https://localhost:8080/"
        }
      },
      "outputs": [
        {
          "output_type": "stream",
          "name": "stdout",
          "text": [
            "You are not old enough to drink\n"
          ]
        }
      ],
      "source": [
        "age = 20\n",
        "if age >= 21:\n",
        "    print('You are old enough to drink')\n",
        "else:\n",
        "    print('You are not old enough to drink')"
      ]
    },
    {
      "cell_type": "markdown",
      "metadata": {
        "id": "Xx-l_ywoYf7Z"
      },
      "source": [
        "**Note: Python is VERY particular about indentation**. Use the ``Tab`` key to move right by four spaces or the ``Shift``+``Tab`` key to move left one level\n",
        "\n",
        "Adding additional conditions via **elif**:"
      ]
    },
    {
      "cell_type": "code",
      "execution_count": 45,
      "metadata": {
        "id": "aQPKmebiYf7Z",
        "outputId": "1c66313c-c74d-425a-e067-60ac3e7e5e70",
        "colab": {
          "base_uri": "https://localhost:8080/"
        }
      },
      "outputs": [
        {
          "output_type": "stream",
          "name": "stdout",
          "text": [
            "You can have a soda if you like\n"
          ]
        }
      ],
      "source": [
        "if age >= 21:\n",
        "    print('You are old enough to drink')\n",
        "elif age > 10:\n",
        "    print('You can have a soda if you like')\n",
        "else:\n",
        "    print('You are not old enough to drink')"
      ]
    },
    {
      "cell_type": "markdown",
      "metadata": {
        "id": "li08gnFxYf7Z"
      },
      "source": [
        "## Loops\n",
        "\n",
        "In many cases we need to perform the same operation multiple times. For such cases, we could use **for** or **while** loops depending on which works better\n",
        "\n",
        "### For loops\n",
        "These are great when the number of iterations is clearly known:"
      ]
    },
    {
      "cell_type": "code",
      "execution_count": 46,
      "metadata": {
        "id": "iFnE9QSYYf7Z",
        "outputId": "e601ee9d-cc7f-4117-d22b-9439b1dea871",
        "colab": {
          "base_uri": "https://localhost:8080/"
        }
      },
      "outputs": [
        {
          "output_type": "stream",
          "name": "stdout",
          "text": [
            "1\n",
            "5.678\n",
            "hello\n",
            "True\n",
            "bye\n"
          ]
        }
      ],
      "source": [
        "for item in my_list:\n",
        "    print(item)"
      ]
    },
    {
      "cell_type": "markdown",
      "metadata": {
        "id": "HRPyatvlYf7Z"
      },
      "source": [
        "### While loops\n",
        "These are great when you want some thing to keep happening over an **unknownn number of iterations** till a certain condition is met."
      ]
    },
    {
      "cell_type": "code",
      "execution_count": 47,
      "metadata": {
        "id": "bk9CwI-xYf7Z",
        "outputId": "714b6bee-e192-4b1c-a129-fb8f8417ef2f",
        "colab": {
          "base_uri": "https://localhost:8080/"
        }
      },
      "outputs": [
        {
          "output_type": "stream",
          "name": "stdout",
          "text": [
            "Cannot drive yet, you are only 15 years old\n",
            "Cannot drive yet, you are only 16 years old\n",
            "Cannot drive yet, you are only 17 years old\n",
            "You can finally drive now that you are 18 years old\n"
          ]
        }
      ],
      "source": [
        "age = 15\n",
        "while age < 18:\n",
        "    print('Cannot drive yet, you are only {} years old'.format(age))\n",
        "    age = age + 1\n",
        "print('You can finally drive now that you are {} years old'.format(age))"
      ]
    },
    {
      "cell_type": "markdown",
      "metadata": {
        "id": "GYuqtjycYf7a"
      },
      "source": [
        "## Functions\n",
        "\n",
        "Functions allow us to wrap a few lines of code so that it can be reused multiple times quickly in different places."
      ]
    },
    {
      "cell_type": "code",
      "execution_count": 48,
      "metadata": {
        "id": "YqYcmK1eYf7a",
        "outputId": "20cee43f-e7bc-49f1-e949-146b73d33879",
        "colab": {
          "base_uri": "https://localhost:8080/"
        }
      },
      "outputs": [
        {
          "output_type": "stream",
          "name": "stdout",
          "text": [
            "hello world!\n"
          ]
        }
      ],
      "source": [
        "def welcome():\n",
        "    print('hello world!')\n",
        "\n",
        "welcome()"
      ]
    },
    {
      "cell_type": "markdown",
      "metadata": {
        "id": "Y4Z_UKTgYf7a"
      },
      "source": [
        "These functions can take variables as inputs..."
      ]
    },
    {
      "cell_type": "code",
      "execution_count": 49,
      "metadata": {
        "id": "jGj99kzTYf7a",
        "outputId": "4a183e20-e734-41aa-d092-f2132b0adda2",
        "colab": {
          "base_uri": "https://localhost:8080/"
        }
      },
      "outputs": [
        {
          "output_type": "stream",
          "name": "stdout",
          "text": [
            "Dave is old enough to drive\n"
          ]
        }
      ],
      "source": [
        "def driving_eligibility(name, age):\n",
        "    if age >= 18:\n",
        "        print(name + ' is old enough to drive')\n",
        "    else:\n",
        "        print(name + ' is not old enough to drive')\n",
        "\n",
        "driving_eligibility('Dave', 19)"
      ]
    },
    {
      "cell_type": "markdown",
      "metadata": {
        "id": "TuN1D76FYf7a"
      },
      "source": [
        "The functions can also output some value when appropriate by **return**ing some value(s)"
      ]
    },
    {
      "cell_type": "code",
      "execution_count": 50,
      "metadata": {
        "id": "RMdOwM5OYf7a",
        "outputId": "c376ec70-49cb-459c-d798-c8e91447c6bb",
        "colab": {
          "base_uri": "https://localhost:8080/"
        }
      },
      "outputs": [
        {
          "output_type": "stream",
          "name": "stdout",
          "text": [
            "A person of age: 17 is allowed to drive: False\n"
          ]
        }
      ],
      "source": [
        "def eligible_to_drive(age):\n",
        "    if age >= 18:\n",
        "        return True\n",
        "    else:\n",
        "        return False\n",
        "\n",
        "age = 17\n",
        "result = eligible_to_drive(age)\n",
        "\n",
        "print('A person of age: {} is allowed to drive: {}'.format(age, result))"
      ]
    },
    {
      "cell_type": "markdown",
      "metadata": {
        "collapsed": true,
        "id": "kurs1Pc6Yf7a"
      },
      "source": [
        "## Boolean operations"
      ]
    },
    {
      "cell_type": "code",
      "execution_count": 51,
      "metadata": {
        "id": "tcfwwWawYf7a",
        "outputId": "44355893-d311-4409-d579-bd9fc1a50c6c",
        "colab": {
          "base_uri": "https://localhost:8080/"
        }
      },
      "outputs": [
        {
          "output_type": "execute_result",
          "data": {
            "text/plain": [
              "False"
            ]
          },
          "metadata": {},
          "execution_count": 51
        }
      ],
      "source": [
        "True and False"
      ]
    },
    {
      "cell_type": "code",
      "execution_count": 52,
      "metadata": {
        "id": "LaGRjX4pYf7e",
        "outputId": "840b22e8-512a-4616-8119-ae36a5b10d1c",
        "colab": {
          "base_uri": "https://localhost:8080/"
        }
      },
      "outputs": [
        {
          "output_type": "execute_result",
          "data": {
            "text/plain": [
              "True"
            ]
          },
          "metadata": {},
          "execution_count": 52
        }
      ],
      "source": [
        "not False"
      ]
    },
    {
      "cell_type": "code",
      "execution_count": 53,
      "metadata": {
        "id": "UdzhPgLLYf7f",
        "outputId": "bcfaba9a-8a2a-4da0-a657-1ffc03cca345",
        "colab": {
          "base_uri": "https://localhost:8080/"
        }
      },
      "outputs": [
        {
          "output_type": "execute_result",
          "data": {
            "text/plain": [
              "True"
            ]
          },
          "metadata": {},
          "execution_count": 53
        }
      ],
      "source": [
        "False or True"
      ]
    },
    {
      "cell_type": "markdown",
      "metadata": {
        "id": "-mZ4lvp2Yf7f"
      },
      "source": [
        "## Comparisons"
      ]
    },
    {
      "cell_type": "code",
      "execution_count": 54,
      "metadata": {
        "id": "hR4pmXdkYf7f",
        "outputId": "e8755f6a-6ca3-4b59-8156-a5a14869bcda",
        "colab": {
          "base_uri": "https://localhost:8080/"
        }
      },
      "outputs": [
        {
          "output_type": "execute_result",
          "data": {
            "text/plain": [
              "True"
            ]
          },
          "metadata": {},
          "execution_count": 54
        }
      ],
      "source": [
        "7 > 5"
      ]
    },
    {
      "cell_type": "code",
      "execution_count": 55,
      "metadata": {
        "id": "6VL5mCg3Yf7f",
        "outputId": "4c4d2a0e-022b-4aff-c344-1e2cf189e79d",
        "colab": {
          "base_uri": "https://localhost:8080/"
        }
      },
      "outputs": [
        {
          "output_type": "execute_result",
          "data": {
            "text/plain": [
              "True"
            ]
          },
          "metadata": {},
          "execution_count": 55
        }
      ],
      "source": [
        "5 <= 5"
      ]
    },
    {
      "cell_type": "markdown",
      "metadata": {
        "id": "7rJ5QdmEYf7f"
      },
      "source": [
        "The exclamation symbol is equivalent to **not**"
      ]
    },
    {
      "cell_type": "code",
      "execution_count": 56,
      "metadata": {
        "id": "PCAoVlJdYf7f",
        "outputId": "ef75911f-8570-44ce-bec3-d81c4a8a22ed",
        "colab": {
          "base_uri": "https://localhost:8080/"
        }
      },
      "outputs": [
        {
          "output_type": "execute_result",
          "data": {
            "text/plain": [
              "True"
            ]
          },
          "metadata": {},
          "execution_count": 56
        }
      ],
      "source": [
        "6 != 4"
      ]
    },
    {
      "cell_type": "markdown",
      "metadata": {
        "id": "uaK_wbOlYf7f"
      },
      "source": [
        "## Datatypes:"
      ]
    },
    {
      "cell_type": "code",
      "execution_count": 57,
      "metadata": {
        "id": "7XLn_82PYf7g",
        "outputId": "ad93917f-68b9-4534-d60d-8e171702bd53",
        "colab": {
          "base_uri": "https://localhost:8080/"
        }
      },
      "outputs": [
        {
          "output_type": "execute_result",
          "data": {
            "text/plain": [
              "list"
            ]
          },
          "metadata": {},
          "execution_count": 57
        }
      ],
      "source": [
        "type([1,2,3])"
      ]
    },
    {
      "cell_type": "code",
      "execution_count": 58,
      "metadata": {
        "id": "_xIO9ZjTYf7g",
        "outputId": "d0e6ed25-ee1f-42f3-c66c-c52250c0e21a",
        "colab": {
          "base_uri": "https://localhost:8080/"
        }
      },
      "outputs": [
        {
          "output_type": "execute_result",
          "data": {
            "text/plain": [
              "tuple"
            ]
          },
          "metadata": {},
          "execution_count": 58
        }
      ],
      "source": [
        "type((1,2,3))"
      ]
    },
    {
      "cell_type": "code",
      "execution_count": 59,
      "metadata": {
        "id": "DVKr08xVYf7g",
        "outputId": "ab1adbfd-f183-4d69-e174-02748f3c2d56",
        "colab": {
          "base_uri": "https://localhost:8080/"
        }
      },
      "outputs": [
        {
          "output_type": "execute_result",
          "data": {
            "text/plain": [
              "dict"
            ]
          },
          "metadata": {},
          "execution_count": 59
        }
      ],
      "source": [
        "type({'name': 'Bob', 'age': 20})"
      ]
    },
    {
      "cell_type": "code",
      "execution_count": 60,
      "metadata": {
        "id": "e8zbV_saYf7g",
        "outputId": "e08d4fbc-867e-42c5-a6ef-c7c3ce2d913f",
        "colab": {
          "base_uri": "https://localhost:8080/"
        }
      },
      "outputs": [
        {
          "output_type": "execute_result",
          "data": {
            "text/plain": [
              "str"
            ]
          },
          "metadata": {},
          "execution_count": 60
        }
      ],
      "source": [
        "type('Hello')"
      ]
    },
    {
      "cell_type": "code",
      "execution_count": 61,
      "metadata": {
        "id": "mx36FD9qYf7g",
        "outputId": "0b766f90-ed85-423d-a758-dbf58d6751b4",
        "colab": {
          "base_uri": "https://localhost:8080/"
        }
      },
      "outputs": [
        {
          "output_type": "execute_result",
          "data": {
            "text/plain": [
              "bool"
            ]
          },
          "metadata": {},
          "execution_count": 61
        }
      ],
      "source": [
        "type(False)"
      ]
    },
    {
      "cell_type": "code",
      "execution_count": 62,
      "metadata": {
        "id": "7akPvMrAYf7g",
        "outputId": "c69a2200-148c-42cb-86fd-f9da0d0706e6",
        "colab": {
          "base_uri": "https://localhost:8080/"
        }
      },
      "outputs": [
        {
          "output_type": "execute_result",
          "data": {
            "text/plain": [
              "float"
            ]
          },
          "metadata": {},
          "execution_count": 62
        }
      ],
      "source": [
        "type(1.0)"
      ]
    },
    {
      "cell_type": "code",
      "execution_count": 63,
      "metadata": {
        "id": "DLzJgwPxYf7g",
        "outputId": "4955c860-2a63-4ad9-8236-7b42639992fe",
        "colab": {
          "base_uri": "https://localhost:8080/"
        }
      },
      "outputs": [
        {
          "output_type": "execute_result",
          "data": {
            "text/plain": [
              "int"
            ]
          },
          "metadata": {},
          "execution_count": 63
        }
      ],
      "source": [
        "type(1)"
      ]
    },
    {
      "cell_type": "markdown",
      "metadata": {
        "collapsed": true,
        "id": "LCqgyKSNYf7g"
      },
      "source": [
        "### Tuples\n",
        "These objects are very similar to lists except that they are **immutable** in that one cannot add / remove / modify the contents of the object.\n",
        "\n",
        "We create tuples in the same way as lists, except that we use round parenthesis / braces instead:"
      ]
    },
    {
      "cell_type": "code",
      "execution_count": 64,
      "metadata": {
        "id": "o_L_K_UVYf7h",
        "outputId": "b44217a3-cbfd-4285-939b-62e918173c46",
        "colab": {
          "base_uri": "https://localhost:8080/"
        }
      },
      "outputs": [
        {
          "output_type": "execute_result",
          "data": {
            "text/plain": [
              "('hello', 55, -2.345, False)"
            ]
          },
          "metadata": {},
          "execution_count": 64
        }
      ],
      "source": [
        "my_tuple = ('hello', 55, -2.345, False)\n",
        "my_tuple"
      ]
    },
    {
      "cell_type": "markdown",
      "metadata": {
        "id": "ZJACggSPYf7h"
      },
      "source": [
        "As mentioned earlier, we cannot modify a tuple:"
      ]
    },
    {
      "cell_type": "code",
      "execution_count": 65,
      "metadata": {
        "id": "7pFvr8RVYf7h",
        "outputId": "132f0ddd-374d-4227-8c37-8ae3f298b4f3",
        "colab": {
          "base_uri": "https://localhost:8080/"
        }
      },
      "outputs": [
        {
          "output_type": "execute_result",
          "data": {
            "text/plain": [
              "55"
            ]
          },
          "metadata": {},
          "execution_count": 65
        }
      ],
      "source": [
        "my_tuple[1]"
      ]
    },
    {
      "cell_type": "code",
      "execution_count": 66,
      "metadata": {
        "id": "JBmX_9o0Yf7h",
        "outputId": "742a08c6-6e62-4686-9ee2-948b3008aa3f",
        "colab": {
          "base_uri": "https://localhost:8080/",
          "height": 141
        }
      },
      "outputs": [
        {
          "output_type": "error",
          "ename": "TypeError",
          "evalue": "'tuple' object does not support item assignment",
          "traceback": [
            "\u001b[0;31m---------------------------------------------------------------------------\u001b[0m",
            "\u001b[0;31mTypeError\u001b[0m                                 Traceback (most recent call last)",
            "\u001b[0;32m<ipython-input-66-e31047f7a9d2>\u001b[0m in \u001b[0;36m<cell line: 1>\u001b[0;34m()\u001b[0m\n\u001b[0;32m----> 1\u001b[0;31m \u001b[0mmy_tuple\u001b[0m\u001b[0;34m[\u001b[0m\u001b[0;36m1\u001b[0m\u001b[0;34m]\u001b[0m \u001b[0;34m=\u001b[0m \u001b[0;36m44\u001b[0m\u001b[0;34m\u001b[0m\u001b[0;34m\u001b[0m\u001b[0m\n\u001b[0m",
            "\u001b[0;31mTypeError\u001b[0m: 'tuple' object does not support item assignment"
          ]
        }
      ],
      "source": [
        "my_tuple[1] = 44"
      ]
    },
    {
      "cell_type": "markdown",
      "metadata": {
        "id": "R_kjgbEMYf7h"
      },
      "source": [
        "### Strings ~ Tuples of single-character strings\n",
        "We can apply the same \"indexing\" idea to find the second \"character\" in a string. Note that unlike C, Java, etc, python does not have a concept of \"characters\""
      ]
    },
    {
      "cell_type": "code",
      "execution_count": 67,
      "metadata": {
        "id": "iYjyuemCYf7h",
        "outputId": "43acdd40-ae2a-46cb-9cdc-5bd42725a763",
        "colab": {
          "base_uri": "https://localhost:8080/",
          "height": 36
        }
      },
      "outputs": [
        {
          "output_type": "execute_result",
          "data": {
            "text/plain": [
              "'e'"
            ],
            "application/vnd.google.colaboratory.intrinsic+json": {
              "type": "string"
            }
          },
          "metadata": {},
          "execution_count": 67
        }
      ],
      "source": [
        "my_string = 'hello'\n",
        "my_string[1]"
      ]
    },
    {
      "cell_type": "markdown",
      "metadata": {
        "id": "H50xikXUYf7h"
      },
      "source": [
        "Attempting to change the second character:"
      ]
    },
    {
      "cell_type": "code",
      "execution_count": 68,
      "metadata": {
        "id": "kHUFBN7wYf7h",
        "outputId": "c40329ab-7bf1-45d8-f4a2-d4c76840214d",
        "colab": {
          "base_uri": "https://localhost:8080/",
          "height": 141
        }
      },
      "outputs": [
        {
          "output_type": "error",
          "ename": "TypeError",
          "evalue": "'str' object does not support item assignment",
          "traceback": [
            "\u001b[0;31m---------------------------------------------------------------------------\u001b[0m",
            "\u001b[0;31mTypeError\u001b[0m                                 Traceback (most recent call last)",
            "\u001b[0;32m<ipython-input-68-d93fc4f8c2fe>\u001b[0m in \u001b[0;36m<cell line: 1>\u001b[0;34m()\u001b[0m\n\u001b[0;32m----> 1\u001b[0;31m \u001b[0mmy_string\u001b[0m\u001b[0;34m[\u001b[0m\u001b[0;36m1\u001b[0m\u001b[0;34m]\u001b[0m \u001b[0;34m=\u001b[0m \u001b[0;34m'o'\u001b[0m\u001b[0;34m\u001b[0m\u001b[0;34m\u001b[0m\u001b[0m\n\u001b[0m",
            "\u001b[0;31mTypeError\u001b[0m: 'str' object does not support item assignment"
          ]
        }
      ],
      "source": [
        "my_string[1] = 'o'"
      ]
    },
    {
      "cell_type": "markdown",
      "metadata": {
        "id": "c9V6qvFSYf7h"
      },
      "source": [
        "## Dictionary\n",
        "\n",
        "This is a very handy object that allows the storage of **name-value** pairs. So, one could assign a name to a value instead of refering to it as the second value in a list.\n",
        "\n",
        "For example, if we wanted to store information (name, age, score) of all the people in a class, we could use a dictionary instead of a list:"
      ]
    },
    {
      "cell_type": "code",
      "execution_count": 70,
      "metadata": {
        "id": "8jD2SUVOYf7i"
      },
      "outputs": [],
      "source": [
        "student_1 = {'name': 'Harry',\n",
        "             'age': 20,\n",
        "             'score':89}"
      ]
    },
    {
      "cell_type": "markdown",
      "metadata": {
        "id": "uAzNvB1yYf7i"
      },
      "source": [
        "Now, if we wanted to find the age of the person, we could say:"
      ]
    },
    {
      "cell_type": "code",
      "execution_count": 71,
      "metadata": {
        "id": "Obhp4mcSYf7i",
        "outputId": "eeb9f45e-d280-412b-ac94-444a6b8aada1",
        "colab": {
          "base_uri": "https://localhost:8080/"
        }
      },
      "outputs": [
        {
          "output_type": "execute_result",
          "data": {
            "text/plain": [
              "20"
            ]
          },
          "metadata": {},
          "execution_count": 71
        }
      ],
      "source": [
        "student_1['age']"
      ]
    },
    {
      "cell_type": "markdown",
      "metadata": {
        "id": "NsAAiFAyYf7i"
      },
      "source": [
        "Note that the dictionary may itself arrange the name-value pairs (**internally**) in any order unlike the order you see above. So **do not assume that the dictionary is sorted in a particular way**."
      ]
    },
    {
      "cell_type": "code",
      "execution_count": 72,
      "metadata": {
        "id": "GdLnuTHeYf7i",
        "outputId": "c7c75c7e-a983-4a9d-c6be-277b2ef4b6fd",
        "colab": {
          "base_uri": "https://localhost:8080/"
        }
      },
      "outputs": [
        {
          "output_type": "execute_result",
          "data": {
            "text/plain": [
              "{'name': 'Harry', 'age': 20, 'score': 89}"
            ]
          },
          "metadata": {},
          "execution_count": 72
        }
      ],
      "source": [
        "student_1"
      ]
    },
    {
      "cell_type": "markdown",
      "metadata": {
        "id": "fQpheMQkYf7i"
      },
      "source": [
        "## Packages = addons to python\n",
        "Python itself cannot do a whole lot but there are several packages for every need:\n",
        "![Python software stack from 2015](http://danielrothenberg.com/gcpy/_images/state_of_the_stack_2015.png)\n",
        "source: http://danielrothenberg.com/gcpy/python.html\n",
        "\n",
        "### Where to get packages?\n",
        "* ``pypi``[python package index](https://pypi.org/)\n",
        "* ``conda`` [conda forge](https://conda-forge.org/feedstocks/)\n",
        "\n",
        "### How to get packages?\n",
        "* [Anaconda](https://www.anaconda.com/download/) already comes with the most popular packages\n",
        "* Install as simply by typing ``pip install mypackage`` or ``conda install mypackage`` in your ``Anaconda Prompt`` (Windows) or a ``Terminal`` (Mac or Linux)"
      ]
    },
    {
      "cell_type": "code",
      "execution_count": 72,
      "metadata": {
        "id": "IbsaA3CIYf7i"
      },
      "outputs": [],
      "source": []
    },
    {
      "cell_type": "markdown",
      "metadata": {
        "id": "lWmTKclFYzdH"
      },
      "source": [
        "# Introduction to NumPy\n",
        "\n",
        "[Originally developed by Stefan](https://github.com/stefanv/imagexd_scientific_python) for the 2018 Image XD Workshop\n",
        "\n",
        "## What do I use NumPy for?\n",
        "  1. An array object of arbitrary homogeneous items\n",
        "  2. Fast mathematical operations over arrays\n",
        "  3. Linear Algebra, Fourier Transforms, Random Number Generation"
      ]
    },
    {
      "cell_type": "code",
      "execution_count": 73,
      "metadata": {
        "id": "66XBqmZWYzdJ",
        "outputId": "071052c9-68c4-4b0a-c59e-acd54c035505",
        "colab": {
          "base_uri": "https://localhost:8080/",
          "height": 36
        }
      },
      "outputs": [
        {
          "output_type": "execute_result",
          "data": {
            "text/plain": [
              "'1.26.4'"
            ],
            "application/vnd.google.colaboratory.intrinsic+json": {
              "type": "string"
            }
          },
          "metadata": {},
          "execution_count": 73
        }
      ],
      "source": [
        "import numpy as np\n",
        "import matplotlib.pyplot as plt\n",
        "np.__version__"
      ]
    },
    {
      "cell_type": "markdown",
      "metadata": {
        "id": "TZPiNSywYzdL"
      },
      "source": [
        "## Where to get help?\n",
        "\n",
        "- http://docs.scipy.org\n",
        "- Forums: mailing list, http://stackoverflow.com\n",
        "\n",
        "## Where do I learn more?\n",
        "\n",
        "- <a href=\"http://mentat.za.net/numpy/intro/intro.html\">NumPy introductory tutorial</a>\n",
        "- <a href=\"http://scipy-lectures.github.com\">SciPy Lectures</a>"
      ]
    },
    {
      "cell_type": "markdown",
      "metadata": {
        "id": "H6VGEvTYYzdL"
      },
      "source": [
        "## The structure of a NumPy array\n",
        "Contiguous sequence of data"
      ]
    },
    {
      "cell_type": "markdown",
      "metadata": {
        "id": "heszHSeZYzdL"
      },
      "source": [
        "## Creating arrays\n",
        "\n",
        "### 1D arrays"
      ]
    },
    {
      "cell_type": "code",
      "execution_count": 74,
      "metadata": {
        "id": "wizWM7WdYzdL",
        "outputId": "bd01d1aa-11a8-48e9-ada5-ab2aad88f289",
        "colab": {
          "base_uri": "https://localhost:8080/"
        }
      },
      "outputs": [
        {
          "output_type": "execute_result",
          "data": {
            "text/plain": [
              "array([0, 1, 2, 3, 4])"
            ]
          },
          "metadata": {},
          "execution_count": 74
        }
      ],
      "source": [
        "np.arange(5)"
      ]
    },
    {
      "cell_type": "code",
      "execution_count": 75,
      "metadata": {
        "id": "W0uXvhtJYzdM",
        "outputId": "4d2bd49d-b475-4772-adee-c93b9a13685d",
        "colab": {
          "base_uri": "https://localhost:8080/"
        }
      },
      "outputs": [
        {
          "output_type": "execute_result",
          "data": {
            "text/plain": [
              "array([2, 4, 6])"
            ]
          },
          "metadata": {},
          "execution_count": 75
        }
      ],
      "source": [
        "# start, stop, step\n",
        "np.arange(2, 8, 2)"
      ]
    },
    {
      "cell_type": "code",
      "execution_count": 76,
      "metadata": {
        "id": "KzwLHBhBYzdM",
        "outputId": "12e92b5e-fc28-44a4-dc55-479761449b17",
        "colab": {
          "base_uri": "https://localhost:8080/"
        }
      },
      "outputs": [
        {
          "output_type": "execute_result",
          "data": {
            "text/plain": [
              "array([0. , 0.1, 0.2, 0.3, 0.4, 0.5, 0.6, 0.7, 0.8, 0.9, 1. ])"
            ]
          },
          "metadata": {},
          "execution_count": 76
        }
      ],
      "source": [
        "np.linspace(0, 1, num=11)"
      ]
    },
    {
      "cell_type": "markdown",
      "metadata": {
        "id": "HM2T-RwBYzdN"
      },
      "source": [
        "### Multidimensional datasets"
      ]
    },
    {
      "cell_type": "code",
      "execution_count": 77,
      "metadata": {
        "id": "F0NEHfNSYzdN",
        "outputId": "469b29f1-c999-4a37-f0f8-5eea221df52d",
        "colab": {
          "base_uri": "https://localhost:8080/"
        }
      },
      "outputs": [
        {
          "output_type": "execute_result",
          "data": {
            "text/plain": [
              "array([[0.93199884, 0.76614374, 0.23868156, 0.50252673],\n",
              "       [0.67552515, 0.79880899, 0.0123118 , 0.45578727],\n",
              "       [0.19152716, 0.02776092, 0.76829386, 0.18769567]])"
            ]
          },
          "metadata": {},
          "execution_count": 77
        }
      ],
      "source": [
        "np.random.rand(3, 4)"
      ]
    },
    {
      "cell_type": "code",
      "execution_count": 78,
      "metadata": {
        "id": "R4L4g8EvYzdN",
        "outputId": "ee66225e-a77f-4bbd-c4b2-0f43aa648072",
        "colab": {
          "base_uri": "https://localhost:8080/"
        }
      },
      "outputs": [
        {
          "output_type": "execute_result",
          "data": {
            "text/plain": [
              "array([[0., 0., 0.],\n",
              "       [0., 0., 0.],\n",
              "       [0., 0., 0.]])"
            ]
          },
          "metadata": {},
          "execution_count": 78
        }
      ],
      "source": [
        "np.zeros((3,3))"
      ]
    },
    {
      "cell_type": "code",
      "execution_count": 79,
      "metadata": {
        "id": "7R-niJo7YzdN",
        "outputId": "9a7a588e-bdf6-45bc-b966-1bcdc69a759b",
        "colab": {
          "base_uri": "https://localhost:8080/"
        }
      },
      "outputs": [
        {
          "output_type": "execute_result",
          "data": {
            "text/plain": [
              "array([[1., 1., 1., 1., 1.],\n",
              "       [1., 1., 1., 1., 1.]])"
            ]
          },
          "metadata": {},
          "execution_count": 79
        }
      ],
      "source": [
        "np.ones((2, 5))"
      ]
    },
    {
      "cell_type": "code",
      "execution_count": 80,
      "metadata": {
        "id": "Ly_HiCzBYzdN",
        "outputId": "7aed1df1-f39c-4646-b7b5-899a30e54aa0",
        "colab": {
          "base_uri": "https://localhost:8080/"
        }
      },
      "outputs": [
        {
          "output_type": "execute_result",
          "data": {
            "text/plain": [
              "array([[ 1,  0,  0],\n",
              "       [ 0, -2,  0],\n",
              "       [ 0,  0,  3]])"
            ]
          },
          "metadata": {},
          "execution_count": 80
        }
      ],
      "source": [
        "np.diag([1, -2, 3])"
      ]
    },
    {
      "cell_type": "code",
      "execution_count": 81,
      "metadata": {
        "id": "ohvIClFKYzdO",
        "outputId": "c5e7d87e-923f-4928-c7e1-8102482537a7",
        "colab": {
          "base_uri": "https://localhost:8080/"
        }
      },
      "outputs": [
        {
          "output_type": "execute_result",
          "data": {
            "text/plain": [
              "array([[1, 4],\n",
              "       [2, 8]], dtype=uint8)"
            ]
          },
          "metadata": {},
          "execution_count": 81
        }
      ],
      "source": [
        "np.array([[1, 4], [2, 8]], dtype=np.uint8)"
      ]
    },
    {
      "cell_type": "markdown",
      "metadata": {
        "id": "JGOKTtZUYzdO"
      },
      "source": [
        "## Properties"
      ]
    },
    {
      "cell_type": "code",
      "execution_count": 82,
      "metadata": {
        "id": "NWoVw4cmYzdO",
        "outputId": "a6fba8ae-ca15-4f81-8562-d85697dfc5f3",
        "colab": {
          "base_uri": "https://localhost:8080/"
        }
      },
      "outputs": [
        {
          "output_type": "execute_result",
          "data": {
            "text/plain": [
              "(3, 5)"
            ]
          },
          "metadata": {},
          "execution_count": 82
        }
      ],
      "source": [
        "x = np.random.rand(3, 5)\n",
        "x.shape"
      ]
    },
    {
      "cell_type": "code",
      "execution_count": 83,
      "metadata": {
        "id": "OewlTS4zYzdO",
        "outputId": "259f01b1-42cc-4bf8-977d-d6ebe57504c2",
        "colab": {
          "base_uri": "https://localhost:8080/"
        }
      },
      "outputs": [
        {
          "output_type": "execute_result",
          "data": {
            "text/plain": [
              "15"
            ]
          },
          "metadata": {},
          "execution_count": 83
        }
      ],
      "source": [
        "x.size"
      ]
    },
    {
      "cell_type": "code",
      "execution_count": 84,
      "metadata": {
        "id": "iC1SL2NKYzdP",
        "outputId": "094a31a7-ad23-4bb6-fc7e-757e67662a9c",
        "colab": {
          "base_uri": "https://localhost:8080/"
        }
      },
      "outputs": [
        {
          "output_type": "execute_result",
          "data": {
            "text/plain": [
              "dtype('float64')"
            ]
          },
          "metadata": {},
          "execution_count": 84
        }
      ],
      "source": [
        "x.dtype"
      ]
    },
    {
      "cell_type": "markdown",
      "metadata": {
        "id": "lC0j4c5IYzdP"
      },
      "source": [
        "## Editing / Populating"
      ]
    },
    {
      "cell_type": "code",
      "execution_count": 85,
      "metadata": {
        "id": "rcO_k2IsYzdP",
        "outputId": "57860293-8f18-420c-f3dc-f6a6aed1a153",
        "colab": {
          "base_uri": "https://localhost:8080/"
        }
      },
      "outputs": [
        {
          "output_type": "stream",
          "name": "stdout",
          "text": [
            "[0 1 2 3 4]\n",
            "afer modification:\n",
            "[   0 -700    2    3    4]\n"
          ]
        }
      ],
      "source": [
        "x = np.arange(5)\n",
        "print(x)\n",
        "x[1] = -700\n",
        "print('afer modification:')\n",
        "print(x)"
      ]
    },
    {
      "cell_type": "markdown",
      "metadata": {
        "id": "EMELZyYgYzdP"
      },
      "source": [
        "## Transpose and Reshaping"
      ]
    },
    {
      "cell_type": "code",
      "execution_count": 86,
      "metadata": {
        "id": "GzbOWsgoYzdP",
        "outputId": "2e4c7a8d-7c61-43ea-dcce-6d486eaf0db3",
        "colab": {
          "base_uri": "https://localhost:8080/"
        }
      },
      "outputs": [
        {
          "output_type": "execute_result",
          "data": {
            "text/plain": [
              "array([[5, 9, 9],\n",
              "       [4, 1, 1]])"
            ]
          },
          "metadata": {},
          "execution_count": 86
        }
      ],
      "source": [
        "x = np.random.randint(0, high=10, size=(2,3))\n",
        "x"
      ]
    },
    {
      "cell_type": "markdown",
      "metadata": {
        "id": "eYOpBoDkYzdP"
      },
      "source": [
        "### Transpose"
      ]
    },
    {
      "cell_type": "code",
      "execution_count": 87,
      "metadata": {
        "id": "tZuF6e7dYzdQ",
        "outputId": "93eb92e3-ddf4-4a58-d029-f60900dff319",
        "colab": {
          "base_uri": "https://localhost:8080/"
        }
      },
      "outputs": [
        {
          "output_type": "execute_result",
          "data": {
            "text/plain": [
              "array([[5, 4],\n",
              "       [9, 1],\n",
              "       [9, 1]])"
            ]
          },
          "metadata": {},
          "execution_count": 87
        }
      ],
      "source": [
        "x.T"
      ]
    },
    {
      "cell_type": "markdown",
      "metadata": {
        "id": "qNsZcjeEYzdQ"
      },
      "source": [
        "### Reshape"
      ]
    },
    {
      "cell_type": "code",
      "execution_count": 88,
      "metadata": {
        "id": "boLLMS2JYzdQ",
        "outputId": "aa9b38cd-18ea-436e-ba46-6a1bdd1a08b1",
        "colab": {
          "base_uri": "https://localhost:8080/"
        }
      },
      "outputs": [
        {
          "output_type": "execute_result",
          "data": {
            "text/plain": [
              "array([[5],\n",
              "       [9],\n",
              "       [9],\n",
              "       [4],\n",
              "       [1],\n",
              "       [1]])"
            ]
          },
          "metadata": {},
          "execution_count": 88
        }
      ],
      "source": [
        "x.reshape(6, 1)"
      ]
    },
    {
      "cell_type": "markdown",
      "metadata": {
        "id": "CuE7R4GJYzdQ"
      },
      "source": [
        "## Operations"
      ]
    },
    {
      "cell_type": "code",
      "execution_count": 89,
      "metadata": {
        "id": "HgecfDm6YzdQ",
        "outputId": "bf986e8f-4c26-4119-d9cc-bb9011db99e6",
        "colab": {
          "base_uri": "https://localhost:8080/"
        }
      },
      "outputs": [
        {
          "output_type": "stream",
          "name": "stdout",
          "text": [
            "x: [0 1 2 3 4]\n",
            "y: [8 4 6 7 8]\n"
          ]
        },
        {
          "output_type": "execute_result",
          "data": {
            "text/plain": [
              "array([ 8,  5,  8, 10, 12])"
            ]
          },
          "metadata": {},
          "execution_count": 89
        }
      ],
      "source": [
        "x = np.arange(5)\n",
        "y = np.random.randint(0, high=10, size=5)\n",
        "print('x:', x)\n",
        "print('y:', y)\n",
        "x + y"
      ]
    },
    {
      "cell_type": "markdown",
      "metadata": {
        "id": "azTBl9rIYzdQ"
      },
      "source": [
        "### Broadcasting:"
      ]
    },
    {
      "cell_type": "code",
      "execution_count": 90,
      "metadata": {
        "id": "bmOVHAvAYzdR",
        "outputId": "35c83fbc-7f1c-4972-85d4-1f726a9cc4c7",
        "colab": {
          "base_uri": "https://localhost:8080/"
        }
      },
      "outputs": [
        {
          "output_type": "stream",
          "name": "stdout",
          "text": [
            "x:\n",
            " [[ 0  1  2]\n",
            " [ 3  4  5]\n",
            " [ 6  7  8]\n",
            " [ 9 10 11]\n",
            " [12 13 14]]\n",
            "y:\n",
            " [-1 -1  0]\n"
          ]
        },
        {
          "output_type": "execute_result",
          "data": {
            "text/plain": [
              "array([[-1,  0,  2],\n",
              "       [ 2,  3,  5],\n",
              "       [ 5,  6,  8],\n",
              "       [ 8,  9, 11],\n",
              "       [11, 12, 14]])"
            ]
          },
          "metadata": {},
          "execution_count": 90
        }
      ],
      "source": [
        "x = np.arange(15).reshape(5, 3)\n",
        "y = np.random.randint(-1, high=1, size=3)\n",
        "print('x:\\n', x)\n",
        "print('y:\\n', y)\n",
        "x + y"
      ]
    },
    {
      "cell_type": "code",
      "execution_count": 91,
      "metadata": {
        "id": "hR0e1rJQYzdR",
        "outputId": "93063c33-664d-4128-dfd8-f3f2068650e8",
        "colab": {
          "base_uri": "https://localhost:8080/",
          "height": 430
        }
      },
      "outputs": [
        {
          "output_type": "display_data",
          "data": {
            "text/plain": [
              "<Figure size 640x480 with 1 Axes>"
            ],
            "image/png": "[encoded data removed]"
          },
          "metadata": {}
        }
      ],
      "source": [
        "x = np.linspace(0, 2 * np.pi, 1000)\n",
        "y = np.sin(x) ** 3\n",
        "\n",
        "plt.plot(x, y);"
      ]
    },
    {
      "cell_type": "markdown",
      "metadata": {
        "id": "a7t5xtlQYzdR"
      },
      "source": [
        "## Indexing and Slicing"
      ]
    },
    {
      "cell_type": "code",
      "execution_count": 92,
      "metadata": {
        "id": "Kb-ffR0DYzdR",
        "outputId": "5b171764-1176-42d5-9335-ccd8661d9b27",
        "colab": {
          "base_uri": "https://localhost:8080/"
        }
      },
      "outputs": [
        {
          "output_type": "execute_result",
          "data": {
            "text/plain": [
              "array([[1, 2, 3],\n",
              "       [3, 2, 1]])"
            ]
          },
          "metadata": {},
          "execution_count": 92
        }
      ],
      "source": [
        "x = np.array([[1, 2, 3], [3, 2, 1]])\n",
        "x"
      ]
    },
    {
      "cell_type": "code",
      "execution_count": 93,
      "metadata": {
        "id": "1xfaYW46YzdR",
        "outputId": "1d705385-aa84-419d-8936-9c0095ff9d5f",
        "colab": {
          "base_uri": "https://localhost:8080/"
        }
      },
      "outputs": [
        {
          "output_type": "execute_result",
          "data": {
            "text/plain": [
              "2"
            ]
          },
          "metadata": {},
          "execution_count": 93
        }
      ],
      "source": [
        "x[0, 1]"
      ]
    },
    {
      "cell_type": "code",
      "execution_count": 94,
      "metadata": {
        "id": "cOiPS0wLYzdR",
        "outputId": "73765d70-f94e-4a9e-bcf5-11b1a1aa5ffc",
        "colab": {
          "base_uri": "https://localhost:8080/"
        }
      },
      "outputs": [
        {
          "output_type": "execute_result",
          "data": {
            "text/plain": [
              "array([3, 2, 1])"
            ]
          },
          "metadata": {},
          "execution_count": 94
        }
      ],
      "source": [
        "x[1]"
      ]
    },
    {
      "cell_type": "code",
      "execution_count": 95,
      "metadata": {
        "id": "eOgYSCWkYzdR",
        "outputId": "0a7638ae-1087-4d56-9bfb-51fab8beed80",
        "colab": {
          "base_uri": "https://localhost:8080/"
        }
      },
      "outputs": [
        {
          "output_type": "execute_result",
          "data": {
            "text/plain": [
              "array([[2, 3],\n",
              "       [2, 1]])"
            ]
          },
          "metadata": {},
          "execution_count": 95
        }
      ],
      "source": [
        "x[:, 1:3]"
      ]
    },
    {
      "cell_type": "markdown",
      "metadata": {
        "id": "A_Iait1AYzdS"
      },
      "source": [
        "## Exercises"
      ]
    },
    {
      "cell_type": "markdown",
      "metadata": {
        "id": "BAP1STe3YzdS"
      },
      "source": [
        "Try the three exercises at http://www.scipy-lectures.org/intro/numpy/exercises.html#array-manipulations"
      ]
    }
  ],
  "metadata": {
    "kernelspec": {
      "display_name": "Python 3",
      "language": "python",
      "name": "python3"
    },
    "language_info": {
      "codemirror_mode": {
        "name": "ipython",
        "version": 3
      },
      "file_extension": ".py",
      "mimetype": "text/x-python",
      "name": "python",
      "nbconvert_exporter": "python",
      "pygments_lexer": "ipython3",
      "version": "3.5.5"
    },
    "colab": {
      "provenance": [],
      "include_colab_link": true
    }
  },
  "nbformat": 4,
  "nbformat_minor": 0
}