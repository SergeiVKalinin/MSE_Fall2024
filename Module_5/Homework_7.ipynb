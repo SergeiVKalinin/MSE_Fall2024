{
  "cells": [
    {
      "cell_type": "markdown",
      "metadata": {
        "id": "view-in-github",
        "colab_type": "text"
      },
      "source": [
        "<a href=\"https://colab.research.google.com/github/SergeiVKalinin/MSE_Fall2024/blob/main/Module_5/Homework_7.ipynb\" target=\"_parent\"><img src=\"https://colab.research.google.com/assets/colab-badge.svg\" alt=\"Open In Colab\"/></a>"
      ]
    },
    {
      "cell_type": "markdown",
      "metadata": {
        "id": "IDw0D8J9lqb-"
      },
      "source": [
        "Homework 7 for the Fall 2024 Course \"Machine Learning for Materials Science\", University of Tennessee Knoxville, Department of Materials Science and Engineering.\n",
        "\n",
        "- Instructor Sergei V. Kalinin"
      ]
    },
    {
      "cell_type": "markdown",
      "source": [
        "# Problem 1 - Settings for decision making"
      ],
      "metadata": {
        "id": "ISHpfQ7hoICO"
      }
    },
    {
      "cell_type": "markdown",
      "source": [
        "The key element of decision making are:\n",
        "- Objective(s)\n",
        "- Reward(s)\n",
        "- Actions\n",
        "- States\n",
        "- Value\n",
        "- Policies\n",
        "\n",
        "Select one topic (either from the list below, or use your own example) and identify what these elements can be:\n",
        "- materials preparation by ceramic powder synthesis with XRay charatcerization of the product\n",
        "- organic synthesis from known precursors\n",
        "- growing tomatoes (or any other culture)\n",
        "- playing chess\n",
        "- choose your own"
      ],
      "metadata": {
        "id": "v8Uefn2NoMuz"
      }
    },
    {
      "cell_type": "markdown",
      "source": [
        "Answers:  \n",
        "- Objective(s):\n",
        "- Reward(s):\n",
        "- Actions:\n",
        "- States:\n",
        "- Value:\n",
        "- Policies:"
      ],
      "metadata": {
        "id": "LXgJKHIV8hP1"
      }
    },
    {
      "cell_type": "code",
      "source": [],
      "metadata": {
        "id": "MrPiMGV8onLc"
      },
      "execution_count": null,
      "outputs": []
    },
    {
      "cell_type": "markdown",
      "source": [
        "# Problem 2 - More decision making"
      ],
      "metadata": {
        "id": "COqqBpg0qXp7"
      }
    },
    {
      "cell_type": "markdown",
      "source": [
        "Pick a paper of your choice (or use the same papers as we used in Module 1) and identify the objectives, reward, etc."
      ],
      "metadata": {
        "id": "VrQ55Ehnqf_T"
      }
    },
    {
      "cell_type": "markdown",
      "source": [
        "Answers: In the paper (name)\n",
        "- Objective(s):\n",
        "- Reward(s):\n",
        "- Actions:\n",
        "- States:\n",
        "- Value:\n",
        "- Policies:"
      ],
      "metadata": {
        "id": "4RCHSJOC9EwV"
      }
    },
    {
      "cell_type": "code",
      "source": [],
      "metadata": {
        "id": "iwNBlrFN8_L0"
      },
      "execution_count": null,
      "outputs": []
    },
    {
      "cell_type": "markdown",
      "source": [
        "# Problem 3 - Analysis with ChatGPT"
      ],
      "metadata": {
        "id": "FhTjWhvoskwr"
      }
    },
    {
      "cell_type": "markdown",
      "metadata": {
        "id": "BrVqJXN5Oipj"
      },
      "source": [
        "Now try to perform the same analysis using the ChatGPT. You may want to define what you are looking for via prompt."
      ]
    },
    {
      "cell_type": "markdown",
      "source": [
        "Answer:"
      ],
      "metadata": {
        "id": "MGLqdH149Xu0"
      }
    },
    {
      "cell_type": "markdown",
      "source": [
        "# Problem 4 - Building a casino"
      ],
      "metadata": {
        "id": "zRUYzoOW9Zq9"
      }
    },
    {
      "cell_type": "markdown",
      "source": [
        "Define the Casino with the 3 Bandits with the probabilities of win being given by Gaussian distributions with the parameters (mean, dispersion) being (6, 2) for the first one (A), (5,3) for the second one (B), and (5.5, 0.2) for the third one (C). You can adapt the code from the example notebook."
      ],
      "metadata": {
        "id": "9rgJuIFc9ZWN"
      }
    },
    {
      "cell_type": "code",
      "source": [],
      "metadata": {
        "id": "SEXRVNtv-dSj"
      },
      "execution_count": null,
      "outputs": []
    },
    {
      "cell_type": "markdown",
      "source": [
        "Now let's assume that we playing these in parallel. For a single run, calculate the average and dispecrion of cumulative reward as a number of plays. Plot the mean with error bars (dispersion) on the log scale for time. At which point can we decide which of the bandits gives biggest wins?"
      ],
      "metadata": {
        "id": "IBopuN7U-dtk"
      }
    },
    {
      "cell_type": "code",
      "source": [],
      "metadata": {
        "id": "STYBxgWh_Fpl"
      },
      "execution_count": null,
      "outputs": []
    },
    {
      "cell_type": "markdown",
      "source": [
        "Now, let's assume that we **do not** know the probability distirbutions of wins, and have to decide which of the hands A, B, or C to play. First, realize the A/B testing strategy. Show the returns for 10, 30, 100, 300, 1000, 3000 test runs and 10000 total number of attempts"
      ],
      "metadata": {
        "id": "Wkl9tYhf_GDc"
      }
    },
    {
      "cell_type": "code",
      "source": [],
      "metadata": {
        "id": "7RCLT2jwA0n8"
      },
      "execution_count": null,
      "outputs": []
    },
    {
      "cell_type": "markdown",
      "source": [
        "Now realize the same exploration for the epsilon-greedy policy with several epsilon values"
      ],
      "metadata": {
        "id": "rNXk_KySA0w9"
      }
    },
    {
      "cell_type": "code",
      "source": [],
      "metadata": {
        "id": "lJzw1OTvA7NN"
      },
      "execution_count": null,
      "outputs": []
    },
    {
      "cell_type": "markdown",
      "source": [
        "And finally UCB with several values of parameter beta."
      ],
      "metadata": {
        "id": "q4mOy6g3A7D8"
      }
    },
    {
      "cell_type": "code",
      "source": [],
      "metadata": {
        "id": "8QG7_fiHA_oP"
      },
      "execution_count": null,
      "outputs": []
    },
    {
      "cell_type": "markdown",
      "source": [
        "Disucss the relative merits and drawbacks for the A/B testing, epsilon-greedy, and USB."
      ],
      "metadata": {
        "id": "w1SSMLs1A_xd"
      }
    },
    {
      "cell_type": "markdown",
      "source": [],
      "metadata": {
        "id": "xMyTlfdqBH00"
      }
    }
  ],
  "metadata": {
    "kernelspec": {
      "display_name": "Python 3",
      "name": "python3"
    },
    "language_info": {
      "codemirror_mode": {
        "name": "ipython",
        "version": 3
      },
      "file_extension": ".py",
      "mimetype": "text/x-python",
      "name": "python",
      "nbconvert_exporter": "python",
      "pygments_lexer": "ipython3",
      "version": "3.9.7"
    },
    "colab": {
      "provenance": [],
      "machine_shape": "hm",
      "gpuType": "A100",
      "toc_visible": true,
      "include_colab_link": true
    },
    "accelerator": "GPU"
  },
  "nbformat": 4,
  "nbformat_minor": 0
}